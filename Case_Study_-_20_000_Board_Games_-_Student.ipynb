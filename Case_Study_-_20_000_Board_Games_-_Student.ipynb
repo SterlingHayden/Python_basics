{
 "cells": [
  {
   "cell_type": "code",
   "execution_count": 37,
   "metadata": {},
   "outputs": [
    {
     "data": {
      "text/html": [
       "<style>    span.str {color:#BA2121; font-style:italic; font-weight:bold;}    span.num {color:#080; font-style:italic; font-weight:bold;}    span.bltn {color:#080; font-weight:bold;}    span.op {color:#AA22FF;}    span.func {color:#00F;}    h3.yt {color:#009900; font-style:italic;}</style>"
      ],
      "text/plain": [
       "<IPython.core.display.HTML object>"
      ]
     },
     "execution_count": 37,
     "metadata": {},
     "output_type": "execute_result"
    }
   ],
   "source": [
    "# Use of IPython.display and HTML for using css to format text in Markdown based on\n",
    "# www.dataquest.io/blog/advanced-jupyter-notebooks-tutorial\n",
    "from IPython.display import HTML\n",
    "HTML(\n",
    "    \"<style>\\\n",
    "    span.str {color:#BA2121; font-style:italic; font-weight:bold;}\\\n",
    "    span.num {color:#080; font-style:italic; font-weight:bold;}\\\n",
    "    span.bltn {color:#080; font-weight:bold;}\\\n",
    "    span.op {color:#AA22FF;}\\\n",
    "    span.func {color:#00F;}\\\n",
    "    h3.yt {color:#009900; font-style:italic;}</style>\"\n",
    ")"
   ]
  },
  {
   "attachments": {
    "img_1.jpg": {
     "image/jpeg": "[encoded data removed]"
    }
   },
   "cell_type": "markdown",
   "metadata": {},
   "source": [
    "<h2><b><u>Case Study: 20,000 Board Games</u></b></h2>\n",
    "\n",
    "<h3><b><i>Background</i></b></h3>\n",
    "The tabletop gaming industry, which include board games, has experienced a resurgence in popularity during the late 2000s [1]. The estimated global market for board games was approximately 7.6 billion USD in 2017 with the potential to rise to 12 billion USD by 2023 [2].  As of 2021, there were 1,288 pages of board games listed on Board Game Geek with 100 games per each page to view [3]. With so many board games now available, selecting one to purchase can be difficult. \n",
    "\n",
    "<h3><b><i>Goal</i></b></h3>\n",
    "The goal of this case study is to recommend board games based on specified criteria. For example, a customer wants to play the top rated board game; what game meets this criteria? You will use attributes such as the rank of the game, the average rating of the game, the number of user ratings, and the minimum and maximum number of players to make recommendations on a game to purchase.\n",
    "\n",
    "As you work through this case study you will practice concepts you have learned such in DataCamp's <a href=\"https://learn.datacamp.com/courses/intro-to-python-for-data-science\">Introduction to Python</a> and <a href=\"https://learn.datacamp.com/courses/data-science-for-everyone\">Data Science for Everyone</a> such as: storing data as <b><i>Variables</i></b>, working with data structures such as a <b><i>List</i></b>, and importing various <b><i>Python Libraries</i></b>.\n",
    "\n",
    "![img_1.jpg](attachment:img_1.jpg)\n",
    "\n",
    "<div style=\"text-align: center\">[4]</div>\n",
    "\n",
    "\n",
    "\n",
    "<h3><b><i>Data</i></b></h3>\n",
    "A subset of the <b><i>\"20,000 Boardgames Dataset\"</i></b> [5] hosted on Kaggle is used in this case study. The <b><i>20,000 Boardgames Dataset</i></b> is based on rankings scraped from boardgamegeek.com on January 13th, 2020 and is released under the CC0 license. To view the full dataset, <a href = \"https://www.kaggle.com/extralime/20000-boardgames-dataset\">click here</a>.\n",
    "\n",
    "You will work with the following modified subset of data in the <b><i>Games table </i></b> below. \n",
    "\n",
    "<table style=\"width:75%\">\n",
    "    <tr>\n",
    "        <th>Id</th>\n",
    "        <th>Name</th>\n",
    "        <th>Rank</th>\n",
    "        <th>Minimum Players</th>\n",
    "        <th>Maximum Players</th>\n",
    "        <th>Average Rating</th>\n",
    "    </tr>\n",
    "    <tr>\n",
    "        <td>174430</td>\n",
    "        <td>Gloomhaven</td>\n",
    "        <td>1</td>\n",
    "        <td>1</td>\n",
    "        <td>4</td>\n",
    "        <td>8.85</td>\n",
    "    </tr>    \n",
    "     <tr>\n",
    "         <td>167791</td>\n",
    "        <td>Terraforming Mars</td>\n",
    "        <td>3</td>\n",
    "         <td>1</td>\n",
    "         <td>4</td>\n",
    "        <td>8.42</td>    \n",
    "    </tr>\n",
    "    <tr>\n",
    "        <td>220308</td>\n",
    "        <td>Gaia Project</td>\n",
    "        <td>9</td>\n",
    "        <td>1</td>\n",
    "        <td>4</td>\n",
    "        <td>8.51</td>\n",
    "    </tr>\n",
    "     <tr>\n",
    "        <td>266192</td>\n",
    "        <td>Wingspan</td>\n",
    "        <td>27</td>\n",
    "        <td>1</td>\n",
    "        <td>5</td>\n",
    "        <td>8.10</td>    \n",
    "    </tr>\n",
    "    <tr>\n",
    "        <td>237182</td>\n",
    "        <td>Root</td>\n",
    "        <td>39</td>\n",
    "        <td>2</td>\n",
    "        <td>4</td>\n",
    "        <td>8.06</td>  \n",
    "    </tr>\n",
    "    \n",
    "</table>\n",
    "\n",
    "In addition to these 5 games, you will also work with data from the top 20 ranked board games from this dataset.\n",
    "\n",
    "\n",
    "Sources: \n",
    "<ol style = \"font-size:8px\">\n",
    "    <li>Shear Fischgrund, Margo. 2020. \"The Rise of Board Games in Today’s Tech-dominated Culture\". Pittwire. University of Pittsburgh. https://www.pittwire.pitt.edu/news/rise-board-games-today-s-tech-dominated-culture</li>\n",
    "    <li>Statista. 2021. \"Global board games market value from 2017 to 2023\". Consumer Goods and FMCG > Toys. https://www.statista.com/statistics/829285/global-board-games-market-value/</li>\n",
    "    <li>Board Game Geek. 2021. \"Browse\". https://boardgamegeek.com/browse/boardgame/</li>\n",
    "    <li>Pxfuel. 2021. Image. https://www.pxfuel.com/en/search?q=board+game. \n",
    "    <li>Lime and ZakWhite. 2021. 20,000 Board Games Dataset: January 13th, 2020. Kaggle. https://www.kaggle.com/extralime/20000-boardgames-dataset</li>\n",
    "</ol>\n",
    "\n"
   ]
  },
  {
   "cell_type": "markdown",
   "metadata": {},
   "source": [
    "<h3>Python Basics</h3>\n",
    "In the code blocks below you will practice creating <b><i>variables</i></b> that store different values, examine data types such as <span class=\"str\">String</span>, <span class=\"num\">Integer and Float</span>, and work with the built-in functions <span class=\"bltn\">print() and type()</span>."
   ]
  },
  {
   "cell_type": "markdown",
   "metadata": {},
   "source": [
    "<h4><u>Creating Variables</u></h4>\n",
    "Create a variable named <span class=\"num\">id_1</span> and save the <i>\"Id\"</i> value for the first game in the <b><i>Games table </i></b>. "
   ]
  },
  {
   "cell_type": "code",
   "execution_count": 38,
   "metadata": {},
   "outputs": [],
   "source": [
    "# Create a variable named id_1 and save the \"Id\" value for the first game in the table. \n",
    "id_1 = 174430"
   ]
  },
  {
   "cell_type": "markdown",
   "metadata": {},
   "source": [
    "Create a variable named <span style = \"color:#BA2121\"><b><i>name_1</i></b></span> and save the <i>\"Name\"</i> value for the first game in the <b><i>Games table </i></b>. "
   ]
  },
  {
   "cell_type": "code",
   "execution_count": 39,
   "metadata": {},
   "outputs": [],
   "source": [
    "# Create a variable named name_1 and store the \"Name\" of the first game in the table\n",
    "name_1 = 'Gloomhaven'"
   ]
  },
  {
   "cell_type": "markdown",
   "metadata": {},
   "source": [
    "Create a variable named <span class=\"num\">rank_1</span> and save the <i>\"Rank\"</i> value for the first game in the <b><i>Games table</i></b>. <span class=\"bltn\">"
   ]
  },
  {
   "cell_type": "code",
   "execution_count": 40,
   "metadata": {},
   "outputs": [],
   "source": [
    "# Create a variable rank_1 and store the \"Rank\" of the first game in the table\n",
    "rank_1 = 1"
   ]
  },
  {
   "cell_type": "markdown",
   "metadata": {},
   "source": [
    "Create a variable named <span class=\"num\">avg_rating_1</span> and save the <i>\"Average Rating\"</i> value for the first game in the <b><i>Games table</i></b>."
   ]
  },
  {
   "cell_type": "code",
   "execution_count": 41,
   "metadata": {},
   "outputs": [],
   "source": [
    "# Create a variable named avg_rating_1 and store the average rating of the first game in the table\n",
    "avg_rating_1 = 8.85"
   ]
  },
  {
   "cell_type": "markdown",
   "metadata": {},
   "source": [
    "<h4><u>Examining Variables using Built-In Functions</u></h4>"
   ]
  },
  {
   "cell_type": "markdown",
   "metadata": {},
   "source": [
    "<span class=\"bltn\">Print</span> the data type of the <span class=\"num\">id_1</span> variable using the <span class=\"bltn\">type</span> function.\n"
   ]
  },
  {
   "cell_type": "code",
   "execution_count": 42,
   "metadata": {},
   "outputs": [
    {
     "name": "stdout",
     "output_type": "stream",
     "text": [
      "<class 'int'>\n"
     ]
    }
   ],
   "source": [
    "# Printing the data type of id_1\n",
    "\n",
    "print(type(id_1))\n"
   ]
  },
  {
   "cell_type": "markdown",
   "metadata": {},
   "source": [
    "<span style = \"color:#008000\"><b>Print</b></span> the value stored in the <span style = \"color:#BA2121\"><b><i>name_1</i></b></span> variable using the <span style = \"color:#008000\"><b>print</b></span> function.\n",
    "\n"
   ]
  },
  {
   "cell_type": "code",
   "execution_count": 43,
   "metadata": {},
   "outputs": [
    {
     "name": "stdout",
     "output_type": "stream",
     "text": [
      "Gloomhaven\n"
     ]
    }
   ],
   "source": [
    "# Print name_1\n",
    "print(name_1)"
   ]
  },
  {
   "cell_type": "markdown",
   "metadata": {},
   "source": [
    "<span style = \"color:#008000\"><b>Print</b></span> the data type of the <span style = \"color:#BA2121\"><b><i>name_1</i></b></span> variable using the <span style = \"color:#008000\"><b>type</b></span> function."
   ]
  },
  {
   "cell_type": "code",
   "execution_count": 44,
   "metadata": {},
   "outputs": [
    {
     "name": "stdout",
     "output_type": "stream",
     "text": [
      "<class 'str'>\n"
     ]
    }
   ],
   "source": [
    "# Print the type of name_1\n",
    "print(type(name_1))"
   ]
  },
  {
   "cell_type": "markdown",
   "metadata": {},
   "source": [
    " <span class=\"bltn\">Print</span> the data type of the <span class=\"num\">avg_rating_1</span> variable using the <span class=\"bltn\">type</span> function."
   ]
  },
  {
   "cell_type": "code",
   "execution_count": 45,
   "metadata": {},
   "outputs": [
    {
     "name": "stdout",
     "output_type": "stream",
     "text": [
      "<class 'float'>\n"
     ]
    }
   ],
   "source": [
    "# Print the avg_rating_1 data type\n",
    "print(type(avg_rating_1))"
   ]
  },
  {
   "cell_type": "markdown",
   "metadata": {},
   "source": [
    " <span class=\"bltn\">Print</span> the following sentence: <span class=\"str\">\"Id_1 is equal to: \"</span> <span class=\"num\">id_1</span> Where <span class=\"num\">id_1</span> is equal to the value stored in that variable."
   ]
  },
  {
   "cell_type": "code",
   "execution_count": 46,
   "metadata": {},
   "outputs": [
    {
     "name": "stdout",
     "output_type": "stream",
     "text": [
      "Id_1 is equal to: 174430\n"
     ]
    }
   ],
   "source": [
    "# Print the following sentence: Id_1 is equal to: id_1.\n",
    "print('Id_1 is equal to: ' + str(id_1))"
   ]
  },
  {
   "cell_type": "markdown",
   "metadata": {},
   "source": [
    "<h3>Python Lists</h3>\n",
    "In the code block below you will practice storing, accessing, and manipulating, data in <b><i>lists</i></b>. "
   ]
  },
  {
   "cell_type": "markdown",
   "metadata": {},
   "source": [
    "<h4><u>Creating a List</u></h4>\n",
    "Create a variable <b><i>avg_ratings</i></b> that stores a <b><i>list</i></b> containing the first four values in the <i>\"Average Rating\" </i> column. Store the string <span class=\"str\">\"Average Rating\" </span> in <b>position 0</b> of the list. "
   ]
  },
  {
   "cell_type": "code",
   "execution_count": 47,
   "metadata": {},
   "outputs": [
    {
     "name": "stdout",
     "output_type": "stream",
     "text": [
      "['Average Rating', 8.85, 8.42, 8.51, 8.1]\n"
     ]
    }
   ],
   "source": [
    "# Create a variable avg_ratings that stores the average rating for the first four rows of the table above. \n",
    "# Include the string \"Average Rating\" as the first element in this list. \n",
    "avg_ratings = ['Average Rating', 8.85, 8.42, 8.51, 8.10]\n",
    "print(avg_ratings)"
   ]
  },
  {
   "cell_type": "markdown",
   "metadata": {},
   "source": [
    "<h4><u>Working with Elements of a List</u></h4>\n"
   ]
  },
  {
   "cell_type": "markdown",
   "metadata": {},
   "source": [
    "Create a string containing the following phrase: <span class=\"str\">\"The number of elements in the list is : \" </span>\n",
    "and append to the end of it the length of the <b><i>avg_ratings</i></b> list using the <span class=\"bltn\">len and str</span> functions."
   ]
  },
  {
   "cell_type": "code",
   "execution_count": 48,
   "metadata": {},
   "outputs": [
    {
     "name": "stdout",
     "output_type": "stream",
     "text": [
      "The number of elements is: 5\n"
     ]
    }
   ],
   "source": [
    "# Print the number of elements in the avg_ratings list. Use the follow format: The number of elements is: ______. \n",
    "print('The number of elements is: ' + str(len(avg_ratings)))"
   ]
  },
  {
   "cell_type": "markdown",
   "metadata": {},
   "source": [
    "Using the <span class=\"bltn\">type</span> function <span class=\"bltn\">print</span> the type of the <b><i> avg_ratings</i></b> variable."
   ]
  },
  {
   "cell_type": "code",
   "execution_count": 49,
   "metadata": {},
   "outputs": [
    {
     "name": "stdout",
     "output_type": "stream",
     "text": [
      "<class 'list'>\n"
     ]
    }
   ],
   "source": [
    "# Print the data type of the avg_ratings variable\n",
    "print(type(avg_ratings))"
   ]
  },
  {
   "cell_type": "markdown",
   "metadata": {},
   "source": [
    "Using the <span class=\"bltn\">type</span> function <span class=\"bltn\">print</span> the type of the element at <b>position 0</b> in the <b><i> avg_ratings</i></b> variable."
   ]
  },
  {
   "cell_type": "code",
   "execution_count": 50,
   "metadata": {},
   "outputs": [
    {
     "name": "stdout",
     "output_type": "stream",
     "text": [
      "<class 'str'>\n"
     ]
    }
   ],
   "source": [
    "# Print the data type of the first element in the avg_ratings list.\n",
    "print(type(avg_ratings[0]))"
   ]
  },
  {
   "cell_type": "markdown",
   "metadata": {},
   "source": [
    "Using the <span class=\"bltn\">append</span> function append the value <span class=\"num\">8.06</span> to the end of the <b><i> avg_ratings</i></b> list."
   ]
  },
  {
   "cell_type": "code",
   "execution_count": 51,
   "metadata": {},
   "outputs": [],
   "source": [
    "# Append the average rating for the last game in the table to the avg_ratings list. \n",
    "avg_ratings.append(8.06)"
   ]
  },
  {
   "cell_type": "markdown",
   "metadata": {},
   "source": [
    "<span class=\"bltn\">Print</span> the values stored in the <b><i>avg_ratings</i></b> list."
   ]
  },
  {
   "cell_type": "code",
   "execution_count": 52,
   "metadata": {},
   "outputs": [
    {
     "name": "stdout",
     "output_type": "stream",
     "text": [
      "['Average Rating', 8.85, 8.42, 8.51, 8.1, 8.06]\n"
     ]
    }
   ],
   "source": [
    "# Print the avg_ratings list\n",
    "print(avg_ratings)"
   ]
  },
  {
   "cell_type": "markdown",
   "metadata": {},
   "source": [
    "Modify the <b><i>avg_ratings</i></b> list so that only <span class=\"num\">floating point </span>values remain. Hint: Remove the value <span class=\"str\">\"Average Rating\"</span>."
   ]
  },
  {
   "cell_type": "code",
   "execution_count": 53,
   "metadata": {},
   "outputs": [],
   "source": [
    "# Modify the avg_ratings list so that only the floating point values remain. \n",
    "# Hint: Remove \"Average Rating\". \n",
    "avg_ratings.remove('Average Rating')"
   ]
  },
  {
   "cell_type": "markdown",
   "metadata": {},
   "source": [
    "<span class=\"bltn\">Print</span> the values stored in the updated <b><i>avg_ratings</i></b> list."
   ]
  },
  {
   "cell_type": "code",
   "execution_count": 54,
   "metadata": {},
   "outputs": [
    {
     "name": "stdout",
     "output_type": "stream",
     "text": [
      "[8.85, 8.42, 8.51, 8.1, 8.06]\n"
     ]
    }
   ],
   "source": [
    "# Print the average ratings list\n",
    "print(avg_ratings)"
   ]
  },
  {
   "cell_type": "markdown",
   "metadata": {},
   "source": [
    "<span class=\"bltn\">Print</span> the <b>third element</b> in the <b><i>avg_ratings</i></b> list. Hint: Remember that Python lists begin with index 0. "
   ]
  },
  {
   "cell_type": "code",
   "execution_count": 55,
   "metadata": {},
   "outputs": [
    {
     "name": "stdout",
     "output_type": "stream",
     "text": [
      "8.51\n"
     ]
    }
   ],
   "source": [
    "# Print the third element in the avg_ratings list. Hint: Remember Python lists begin with index 0. \n",
    "print(avg_ratings[2])"
   ]
  },
  {
   "cell_type": "markdown",
   "metadata": {},
   "source": [
    "<h3>Functions and Packages</h3>\n",
    "In the code block below, you will practice using <b><i>functions</i></b> and <b><i>packages</i></b>. Run the cell immediately below to intialize the variables needed for the next part of Exercise 1. "
   ]
  },
  {
   "cell_type": "markdown",
   "metadata": {},
   "source": [
    "<h4><u>Creating Additional Variables</u></h4>\n",
    "Run the cell immediately below to intialize the variables needed for the next part of Exercise 1. "
   ]
  },
  {
   "cell_type": "code",
   "execution_count": 56,
   "metadata": {},
   "outputs": [],
   "source": [
    "# First run the code block below to store these variables in memory. \n",
    "# Each variable represents an attribute or column in the table. \n",
    "ids = [174430, 167791, 220308, 266192, 237182]\n",
    "names = [\"Gloomhaven\", \"Terraforming Mars\", \"Gaia Project\", \"Wingspan\", \"Root\"]\n",
    "ranks = [1, 3, 9, 27, 39]\n",
    "min_players = [1, 1, 1, 1, 2]\n",
    "max_players = [4, 4, 4, 5, 4]"
   ]
  },
  {
   "cell_type": "markdown",
   "metadata": {},
   "source": [
    "<h4><u>Importing Libraries</u></h4>\n",
    "<span class = \"bltn\">Import</span> the <b>statistics</b> and <b>math</b> modules."
   ]
  },
  {
   "cell_type": "code",
   "execution_count": 57,
   "metadata": {},
   "outputs": [],
   "source": [
    "# Import Python's built in Statistics Module\n",
    "import statistics\n",
    "\n",
    "# Import Python's math module\n",
    "import math"
   ]
  },
  {
   "cell_type": "markdown",
   "metadata": {},
   "source": [
    "<h4><u>More Functions and Methods</u></h4>\n",
    "Use the <b>mean</b> function in the statistics module to <span class=\"bltn\">print</span> the mean of the <b><i>avg_ratings</i></b> list. "
   ]
  },
  {
   "cell_type": "code",
   "execution_count": 58,
   "metadata": {},
   "outputs": [
    {
     "data": {
      "text/plain": [
       "8.388"
      ]
     },
     "execution_count": 58,
     "metadata": {},
     "output_type": "execute_result"
    }
   ],
   "source": [
    "# Print the mean of the average game rating from the table above. \n",
    "statistics.mean(avg_ratings)"
   ]
  },
  {
   "cell_type": "markdown",
   "metadata": {},
   "source": [
    "The <b><i>avg_ratings</i></b> list holds <span class=\"num\">floating point</span> values. First, sort the values in descending order, then select the value at <b>position 0</b>. This value represents the highest rating. Next, use the <b>ceil</b> function in the math module to take the ceiling of the highest rating value and <span class=\"bltn\">print </span>the result. "
   ]
  },
  {
   "cell_type": "code",
   "execution_count": 59,
   "metadata": {},
   "outputs": [
    {
     "name": "stdout",
     "output_type": "stream",
     "text": [
      "9\n"
     ]
    }
   ],
   "source": [
    "# Take the ceiling of the highest rating. Print the result. \n",
    "print(math.ceil(sorted(avg_ratings, reverse=True)[0]))"
   ]
  },
  {
   "cell_type": "markdown",
   "metadata": {},
   "source": [
    "<span class=\"bltn\">Print </span> the number of games that can be played with a single player. Use the built-in method <span class=\"bltn\">count </span> and pass <span class=\"num\">1 </span> as the argument. "
   ]
  },
  {
   "cell_type": "code",
   "execution_count": 60,
   "metadata": {},
   "outputs": [
    {
     "name": "stdout",
     "output_type": "stream",
     "text": [
      "4\n"
     ]
    }
   ],
   "source": [
    "# Print the number of games that require a minimum player of 1\n",
    "print(min_players.count(1))"
   ]
  },
  {
   "cell_type": "markdown",
   "metadata": {},
   "source": [
    "<span class=\"bltn\">Print </span> the number of games that allow a maximum of five people to play. Use the built-in method <span class=\"bltn\">count </span> and pass <span class=\"num\">5 </span> as the argument. "
   ]
  },
  {
   "cell_type": "code",
   "execution_count": 61,
   "metadata": {},
   "outputs": [
    {
     "name": "stdout",
     "output_type": "stream",
     "text": [
      "1\n"
     ]
    }
   ],
   "source": [
    "# Print the number of games that allow 5 people to play. \n",
    "print(max_players.count(5))"
   ]
  },
  {
   "cell_type": "markdown",
   "metadata": {},
   "source": [
    "Use the <b><i>ranks</i></b> list and the built-in method <span class=\"bltn\">index </span> to get the index of the game with the rank of 9 and store it in the variable <span class=\"num\">ninth_rank</span>. Use the index in <span class=\"num\">ninth_rank</span> to access the value stored in <b><i>names</i></b> to <span class=\"bltn\">print</span> the name of the game with the ninth ranking."
   ]
  },
  {
   "cell_type": "code",
   "execution_count": 62,
   "metadata": {},
   "outputs": [
    {
     "name": "stdout",
     "output_type": "stream",
     "text": [
      "Gaia Project\n"
     ]
    }
   ],
   "source": [
    "# Find the index of the game with rank 9 and use this to print it's name and ranking. \n",
    "ninth_rank = ranks.index(9)\n",
    "\n",
    "# Print the name of the 9th ranked game. \n",
    "print(names[ninth_rank])"
   ]
  },
  {
   "cell_type": "markdown",
   "metadata": {},
   "source": [
    "<h3> Use Case </h3>\n",
    "The code blocks below show how the full dataset can be used with built-in Python modules to answer questions about the data. This code mostly uses deafult modules in Python. In later exercises, we will use add-on packages such as Pandas instead. The following questions will be answered:\n",
    "\n",
    "<ul>\n",
    "    <li>For the top 20 games, which game had the most users rate it? What is the average rating of this game and what is its rank?</li>\n",
    "    <li>For the top 20 games, which games can be played by more than 4 players at once? What is the maximum number of players for these games?</li>\n",
    "</ul>\n",
    "\n",
    "<h4><u>Reading in the Data</u></h4>"
   ]
  },
  {
   "cell_type": "code",
   "execution_count": 63,
   "metadata": {},
   "outputs": [
    {
     "name": "stdout",
     "output_type": "stream",
     "text": [
      "20\n"
     ]
    }
   ],
   "source": [
    "# Import the csv file using Python's built in csv module\n",
    "import csv\n",
    "\n",
    "# Import NumPy\n",
    "import numpy as np\n",
    "\n",
    "game_data = []\n",
    "\n",
    "# Read in csv file to a list.\n",
    "with open(\"Data/board_games_20.csv\", newline='') as csvfile:\n",
    "    game_reader = csv.reader(csvfile, delimiter=',', quotechar='|')\n",
    "    for row in game_reader:\n",
    "        game_data.append(list(row))\n",
    "        \n",
    "# Remove attribute names from the data\n",
    "game_data = game_data[1:]\n",
    "\n",
    "print(len(game_data))\n",
    "\n",
    "# Restrict the data to only keep columns relevant to answering the use case questions. \n",
    "# In this case the attributes are: objectid, name, rank, minplayers, maxplayers, usersrated, and average. \n",
    "selected_games = []\n",
    "for game in game_data:\n",
    "    game_info = []\n",
    "    game_info.extend([int(game[0]), game[1], int(game[3]), int(game[4]), int(game[5]), int(game[14]), float(game[15])])\n",
    "    selected_games.append(game_info)\n",
    "\n"
   ]
  },
  {
   "cell_type": "markdown",
   "metadata": {},
   "source": [
    "<h4><u>Question 1</u></h4>\n",
    "Which game had the most users rate it? What is the average rating of this game and what is its rank? Convert the usersrated values to a <b><i>numpy array </i></b>. "
   ]
  },
  {
   "cell_type": "code",
   "execution_count": 64,
   "metadata": {},
   "outputs": [
    {
     "name": "stdout",
     "output_type": "stream",
     "text": [
      "int32\n",
      "Game with the most user ratings is : Terraforming Mars\n",
      "Number of user ratings: 48339\n",
      "Average rating: 8.42299\n",
      "Rank is: 3\n"
     ]
    }
   ],
   "source": [
    "# Question 1: Which game had the most users rate it? What is the average rating of this game and what is its rank?\n",
    "# Convert the usersrated values to a numpy array\n",
    "user_ratings = np.asarray([game[5] for game in selected_games])\n",
    "\n",
    "# Print the array's data type\n",
    "print(user_ratings.dtype)\n",
    "\n",
    "# Store the index of the most rated game \n",
    "most_rated_idx = user_ratings.argmax()\n",
    "\n",
    "# Print the name of the game that had the most user ratings\n",
    "print(\"Game with the most user ratings is : \" + selected_games[most_rated_idx][1])\n",
    "print(\"Number of user ratings: \" + str(selected_games[most_rated_idx][5]))\n",
    "print(\"Average rating: \" + str(selected_games[most_rated_idx][6]))\n",
    "print(\"Rank is: \" + str(selected_games[most_rated_idx][2]))\n"
   ]
  },
  {
   "cell_type": "markdown",
   "metadata": {},
   "source": [
    "<h4><u>Question 2</u></h4>\n",
    "Which games can be played by more than 4 players at once? \n"
   ]
  },
  {
   "cell_type": "code",
   "execution_count": 65,
   "metadata": {},
   "outputs": [
    {
     "name": "stdout",
     "output_type": "stream",
     "text": [
      "[['Terraforming Mars', 5], ['Twilight Imperium (Fourth Edition)', 6], ['Scythe', 5], ['Terra Mystica', 5], ['Concordia', 5], ['Viticulture Essential Edition', 6]]\n"
     ]
    }
   ],
   "source": [
    "# Question 2: Which games can be played by more than 4 players at once? \n",
    "# Print the names and maximum number of players for games in which more than 4 players can play at one time. \n",
    "print([[game[1],game[4]] for game in selected_games if game[4] > 4])"
   ]
  },
  {
   "cell_type": "markdown",
   "metadata": {},
   "source": [
    "<h3 class = \"yt\">Your Turn</h3>\n",
    "Using the code above as a hint, answer the questions below. Make sure to post the code for each question in its own cell. \n",
    "\n",
    "<ol>\n",
    "    <li>Which board games can be played by a single player? Print the names of the games that match this criteria. </li>\n",
    "    <li>What is the total number of single player board games?</li>\n",
    "    <li>What is the mean rating of the average rating for all board games?</li>\n",
    "    <li>Which board games have an average user rating higher than the mean average rating for the dataset?</li>\n",
    "</ol>\n",
    "    "
   ]
  },
  {
   "cell_type": "markdown",
   "metadata": {},
   "source": [
    "<h3 class = \"yt\">Your Turn 1:  </h3>\n",
    "Which board games can be played by a single player? Print the names of the games that match this criteria."
   ]
  },
  {
   "cell_type": "code",
   "execution_count": 66,
   "metadata": {},
   "outputs": [
    {
     "name": "stdout",
     "output_type": "stream",
     "text": [
      "[['Gloomhaven', 1], ['Terraforming Mars', 1], ['Gaia Project', 1], ['Scythe', 1], ['Spirit Island', 1], ['The 7th Continent', 1], ['Viticulture Essential Edition', 1]]\n"
     ]
    }
   ],
   "source": [
    "# Answer to Your Turn 1 \n",
    "print([[game[1],game[3]] for game in selected_games if game[3] <= 1])"
   ]
  },
  {
   "cell_type": "markdown",
   "metadata": {},
   "source": [
    "<h3 class = \"yt\">Your Turn 2: </h3>\n",
    "What is the total number of single player board games?"
   ]
  },
  {
   "cell_type": "code",
   "execution_count": 95,
   "metadata": {},
   "outputs": [
    {
     "name": "stdout",
     "output_type": "stream",
     "text": [
      "There are a total of 7 single player board games.\n"
     ]
    }
   ],
   "source": [
    "#Answer to Your Turn 2\n",
    "count = 0\n",
    "for game in selected_games:\n",
    "     if game[3] == 1:\n",
    "        count += 1\n",
    "print('There are a total of', count,'single player board games.')"
   ]
  },
  {
   "cell_type": "markdown",
   "metadata": {},
   "source": [
    "<h3 class = \"yt\">Your Turn 3: </h3>\n",
    "What is the mean rating of the average rating for all board games?"
   ]
  },
  {
   "cell_type": "code",
   "execution_count": 86,
   "metadata": {},
   "outputs": [
    {
     "name": "stdout",
     "output_type": "stream",
     "text": [
      "The average rating of all board games is 8.3706215 .\n"
     ]
    }
   ],
   "source": [
    "# Answer to Your Turn 3\n",
    "sum = 0\n",
    "i = 0\n",
    "for game in selected_games:\n",
    "    sum += game[6]\n",
    "    i += 1\n",
    "avg = sum / i\n",
    "print('The average rating of all board games is', avg,'.')"
   ]
  },
  {
   "cell_type": "markdown",
   "metadata": {},
   "source": [
    "<h3 class = \"yt\">Your Turn 4: </h3>\n",
    "Which board games have an average user rating higher than the mean average rating for the dataset?"
   ]
  },
  {
   "cell_type": "code",
   "execution_count": 87,
   "metadata": {},
   "outputs": [
    {
     "name": "stdout",
     "output_type": "stream",
     "text": [
      "[['Gloomhaven', 8.85292], ['Pandemic Legacy  Season 1', 8.62499], ['Terraforming Mars', 8.42299], ['Through the Ages  A New Story of Civilization', 8.49419], ['Brass  Birmingham', 8.62031], ['Twilight Imperium (Fourth Edition)', 8.68965], ['Star Wars  Rebellion', 8.42602], ['Gaia Project', 8.50686], ['War of the Ring (Second Edition)', 8.44938]]\n"
     ]
    }
   ],
   "source": [
    "# Answers to Your Turn 4\n",
    "print([[game[1],game[6]] for game in selected_games if game[6] > avg])"
   ]
  }
 ],
 "metadata": {
  "kernelspec": {
   "display_name": "Python 3.9.12 ('base')",
   "language": "python",
   "name": "python3"
  },
  "language_info": {
   "codemirror_mode": {
    "name": "ipython",
    "version": 3
   },
   "file_extension": ".py",
   "mimetype": "text/x-python",
   "name": "python",
   "nbconvert_exporter": "python",
   "pygments_lexer": "ipython3",
   "version": "3.9.12"
  },
  "vscode": {
   "interpreter": {
    "hash": "2e8295190a3c3fc9a04c6479005c4d091cdb550b1e92302b492e6a4a7c473e85"
   }
  }
 },
 "nbformat": 4,
 "nbformat_minor": 4
}
